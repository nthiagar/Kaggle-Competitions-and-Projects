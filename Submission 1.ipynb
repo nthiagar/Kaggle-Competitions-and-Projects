{
 "cells": [
  {
   "cell_type": "code",
   "execution_count": 1,
   "metadata": {
    "_cell_guid": "b1076dfc-b9ad-4769-8c92-a6c4dae69d19",
    "_uuid": "8f2839f25d086af736a60e9eeb907d3b93b6e0e5",
    "execution": {
     "iopub.execute_input": "2020-08-28T00:36:25.415943Z",
     "iopub.status.busy": "2020-08-28T00:36:25.414701Z",
     "iopub.status.idle": "2020-08-28T00:36:25.424754Z",
     "shell.execute_reply": "2020-08-28T00:36:25.425696Z"
    },
    "papermill": {
     "duration": 0.030595,
     "end_time": "2020-08-28T00:36:25.425988",
     "exception": false,
     "start_time": "2020-08-28T00:36:25.395393",
     "status": "completed"
    },
    "tags": []
   },
   "outputs": [
    {
     "name": "stdout",
     "output_type": "stream",
     "text": [
      "/kaggle/input/competitive-data-science-predict-future-sales/test.csv\n",
      "/kaggle/input/competitive-data-science-predict-future-sales/item_categories.csv\n",
      "/kaggle/input/competitive-data-science-predict-future-sales/items.csv\n",
      "/kaggle/input/competitive-data-science-predict-future-sales/sample_submission.csv\n",
      "/kaggle/input/competitive-data-science-predict-future-sales/sales_train.csv\n",
      "/kaggle/input/competitive-data-science-predict-future-sales/shops.csv\n"
     ]
    }
   ],
   "source": [
    "# This Python 3 environment comes with many helpful analytics libraries installed\n",
    "# It is defined by the kaggle/python Docker image: https://github.com/kaggle/docker-python\n",
    "# For example, here's several helpful packages to load\n",
    "\n",
    "import numpy as np # linear algebra\n",
    "import pandas as pd # data processing, CSV file I/O (e.g. pd.read_csv)\n",
    "\n",
    "# Input data files are available in the read-only \"../input/\" directory\n",
    "# For example, running this (by clicking run or pressing Shift+Enter) will list all files under the input directory\n",
    "\n",
    "import os\n",
    "for dirname, _, filenames in os.walk('/kaggle/input'):\n",
    "    for filename in filenames:\n",
    "        print(os.path.join(dirname, filename))\n",
    "\n",
    "# You can write up to 5GB to the current directory (/kaggle/working/) that gets preserved as output when you create a version using \"Save & Run All\" \n",
    "# You can also write temporary files to /kaggle/temp/, but they won't be saved outside of the current session"
   ]
  },
  {
   "cell_type": "code",
   "execution_count": 2,
   "metadata": {
    "_cell_guid": "79c7e3d0-c299-4dcb-8224-4455121ee9b0",
    "_uuid": "d629ff2d2480ee46fbb7e2d37f6b5fab8052498a",
    "execution": {
     "iopub.execute_input": "2020-08-28T00:36:25.459173Z",
     "iopub.status.busy": "2020-08-28T00:36:25.458189Z",
     "iopub.status.idle": "2020-08-28T00:36:28.268543Z",
     "shell.execute_reply": "2020-08-28T00:36:28.267897Z"
    },
    "papermill": {
     "duration": 2.831726,
     "end_time": "2020-08-28T00:36:28.268689",
     "exception": false,
     "start_time": "2020-08-28T00:36:25.436963",
     "status": "completed"
    },
    "tags": []
   },
   "outputs": [],
   "source": [
    "train_data = pd.read_csv(\"../input/competitive-data-science-predict-future-sales/sales_train.csv\")\n",
    "test_data= pd.read_csv(\"../input/competitive-data-science-predict-future-sales/test.csv\")"
   ]
  },
  {
   "cell_type": "code",
   "execution_count": 3,
   "metadata": {
    "execution": {
     "iopub.execute_input": "2020-08-28T00:36:28.304535Z",
     "iopub.status.busy": "2020-08-28T00:36:28.303558Z",
     "iopub.status.idle": "2020-08-28T00:36:28.332065Z",
     "shell.execute_reply": "2020-08-28T00:36:28.331158Z"
    },
    "papermill": {
     "duration": 0.052867,
     "end_time": "2020-08-28T00:36:28.332224",
     "exception": false,
     "start_time": "2020-08-28T00:36:28.279357",
     "status": "completed"
    },
    "tags": []
   },
   "outputs": [],
   "source": [
    "y = train_data['item_cnt_day']\n",
    "features=['date','date_block_num', 'item_price', 'item_cnt_day']\n",
    "feat=['ID']\n",
    "train = train_data.drop(features, axis=1)\n",
    "test = test_data.drop(feat, axis=1)"
   ]
  },
  {
   "cell_type": "code",
   "execution_count": 4,
   "metadata": {
    "execution": {
     "iopub.execute_input": "2020-08-28T00:36:28.363745Z",
     "iopub.status.busy": "2020-08-28T00:36:28.362514Z",
     "iopub.status.idle": "2020-08-28T00:36:28.372566Z",
     "shell.execute_reply": "2020-08-28T00:36:28.373225Z"
    },
    "papermill": {
     "duration": 0.031323,
     "end_time": "2020-08-28T00:36:28.373406",
     "exception": false,
     "start_time": "2020-08-28T00:36:28.342083",
     "status": "completed"
    },
    "tags": []
   },
   "outputs": [
    {
     "data": {
      "text/html": [
       "<div>\n",
       "<style scoped>\n",
       "    .dataframe tbody tr th:only-of-type {\n",
       "        vertical-align: middle;\n",
       "    }\n",
       "\n",
       "    .dataframe tbody tr th {\n",
       "        vertical-align: top;\n",
       "    }\n",
       "\n",
       "    .dataframe thead th {\n",
       "        text-align: right;\n",
       "    }\n",
       "</style>\n",
       "<table border=\"1\" class=\"dataframe\">\n",
       "  <thead>\n",
       "    <tr style=\"text-align: right;\">\n",
       "      <th></th>\n",
       "      <th>shop_id</th>\n",
       "      <th>item_id</th>\n",
       "    </tr>\n",
       "  </thead>\n",
       "  <tbody>\n",
       "    <tr>\n",
       "      <th>0</th>\n",
       "      <td>5</td>\n",
       "      <td>5037</td>\n",
       "    </tr>\n",
       "    <tr>\n",
       "      <th>1</th>\n",
       "      <td>5</td>\n",
       "      <td>5320</td>\n",
       "    </tr>\n",
       "    <tr>\n",
       "      <th>2</th>\n",
       "      <td>5</td>\n",
       "      <td>5233</td>\n",
       "    </tr>\n",
       "    <tr>\n",
       "      <th>3</th>\n",
       "      <td>5</td>\n",
       "      <td>5232</td>\n",
       "    </tr>\n",
       "    <tr>\n",
       "      <th>4</th>\n",
       "      <td>5</td>\n",
       "      <td>5268</td>\n",
       "    </tr>\n",
       "  </tbody>\n",
       "</table>\n",
       "</div>"
      ],
      "text/plain": [
       "   shop_id  item_id\n",
       "0        5     5037\n",
       "1        5     5320\n",
       "2        5     5233\n",
       "3        5     5232\n",
       "4        5     5268"
      ]
     },
     "execution_count": 4,
     "metadata": {},
     "output_type": "execute_result"
    }
   ],
   "source": [
    "test.head()"
   ]
  },
  {
   "cell_type": "code",
   "execution_count": 5,
   "metadata": {
    "execution": {
     "iopub.execute_input": "2020-08-28T00:36:28.414199Z",
     "iopub.status.busy": "2020-08-28T00:36:28.413036Z",
     "iopub.status.idle": "2020-08-28T00:36:28.418490Z",
     "shell.execute_reply": "2020-08-28T00:36:28.419130Z"
    },
    "papermill": {
     "duration": 0.035132,
     "end_time": "2020-08-28T00:36:28.419334",
     "exception": false,
     "start_time": "2020-08-28T00:36:28.384202",
     "status": "completed"
    },
    "tags": []
   },
   "outputs": [
    {
     "name": "stdout",
     "output_type": "stream",
     "text": [
      "<class 'pandas.core.frame.DataFrame'>\n",
      "RangeIndex: 2935849 entries, 0 to 2935848\n",
      "Data columns (total 6 columns):\n",
      " #   Column          Dtype  \n",
      "---  ------          -----  \n",
      " 0   date            object \n",
      " 1   date_block_num  int64  \n",
      " 2   shop_id         int64  \n",
      " 3   item_id         int64  \n",
      " 4   item_price      float64\n",
      " 5   item_cnt_day    float64\n",
      "dtypes: float64(2), int64(3), object(1)\n",
      "memory usage: 134.4+ MB\n"
     ]
    }
   ],
   "source": [
    "train_data.info()"
   ]
  },
  {
   "cell_type": "code",
   "execution_count": 6,
   "metadata": {
    "execution": {
     "iopub.execute_input": "2020-08-28T00:36:28.450550Z",
     "iopub.status.busy": "2020-08-28T00:36:28.449517Z",
     "iopub.status.idle": "2020-08-28T00:36:30.790133Z",
     "shell.execute_reply": "2020-08-28T00:36:30.789236Z"
    },
    "papermill": {
     "duration": 2.357923,
     "end_time": "2020-08-28T00:36:30.790308",
     "exception": false,
     "start_time": "2020-08-28T00:36:28.432385",
     "status": "completed"
    },
    "tags": []
   },
   "outputs": [],
   "source": [
    "from sklearn.ensemble import RandomForestRegressor"
   ]
  },
  {
   "cell_type": "code",
   "execution_count": 7,
   "metadata": {
    "execution": {
     "iopub.execute_input": "2020-08-28T00:36:30.823396Z",
     "iopub.status.busy": "2020-08-28T00:36:30.822367Z",
     "iopub.status.idle": "2020-08-28T00:40:09.987641Z",
     "shell.execute_reply": "2020-08-28T00:40:09.988311Z"
    },
    "papermill": {
     "duration": 219.186841,
     "end_time": "2020-08-28T00:40:09.988493",
     "exception": false,
     "start_time": "2020-08-28T00:36:30.801652",
     "status": "completed"
    },
    "tags": []
   },
   "outputs": [
    {
     "data": {
      "text/plain": [
       "RandomForestRegressor(max_depth=5, random_state=1)"
      ]
     },
     "execution_count": 7,
     "metadata": {},
     "output_type": "execute_result"
    }
   ],
   "source": [
    "model = RandomForestRegressor(n_estimators=100, max_depth=5, random_state=1)\n",
    "model.fit(train, y)"
   ]
  },
  {
   "cell_type": "code",
   "execution_count": 8,
   "metadata": {
    "execution": {
     "iopub.execute_input": "2020-08-28T00:40:10.021654Z",
     "iopub.status.busy": "2020-08-28T00:40:10.020839Z",
     "iopub.status.idle": "2020-08-28T00:40:11.755829Z",
     "shell.execute_reply": "2020-08-28T00:40:11.756648Z"
    },
    "papermill": {
     "duration": 1.756815,
     "end_time": "2020-08-28T00:40:11.756888",
     "exception": false,
     "start_time": "2020-08-28T00:40:10.000073",
     "status": "completed"
    },
    "tags": []
   },
   "outputs": [
    {
     "name": "stdout",
     "output_type": "stream",
     "text": [
      "Your submission was successfully saved!\n"
     ]
    }
   ],
   "source": [
    "prediction = model.predict(test)\n",
    "\n",
    "submission = pd.DataFrame({\n",
    "        \"ID\": test_data.ID,\n",
    "        \"item_cnt_month\": prediction\n",
    "    })\n",
    "\n",
    "submission.to_csv('submission.csv', index=False)\n",
    "print(\"Your submission was successfully saved!\")"
   ]
  },
  {
   "cell_type": "code",
   "execution_count": 9,
   "metadata": {
    "execution": {
     "iopub.execute_input": "2020-08-28T00:40:11.787702Z",
     "iopub.status.busy": "2020-08-28T00:40:11.786980Z",
     "iopub.status.idle": "2020-08-28T00:40:11.881872Z",
     "shell.execute_reply": "2020-08-28T00:40:11.881065Z"
    },
    "papermill": {
     "duration": 0.112172,
     "end_time": "2020-08-28T00:40:11.882003",
     "exception": false,
     "start_time": "2020-08-28T00:40:11.769831",
     "status": "completed"
    },
    "tags": []
   },
   "outputs": [
    {
     "data": {
      "text/html": [
       "<div>\n",
       "<style scoped>\n",
       "    .dataframe tbody tr th:only-of-type {\n",
       "        vertical-align: middle;\n",
       "    }\n",
       "\n",
       "    .dataframe tbody tr th {\n",
       "        vertical-align: top;\n",
       "    }\n",
       "\n",
       "    .dataframe thead th {\n",
       "        text-align: right;\n",
       "    }\n",
       "</style>\n",
       "<table border=\"1\" class=\"dataframe\">\n",
       "  <thead>\n",
       "    <tr style=\"text-align: right;\">\n",
       "      <th></th>\n",
       "      <th>ID</th>\n",
       "      <th>item_cnt_month</th>\n",
       "    </tr>\n",
       "  </thead>\n",
       "  <tbody>\n",
       "    <tr>\n",
       "      <th>0</th>\n",
       "      <td>0</td>\n",
       "      <td>1.166893</td>\n",
       "    </tr>\n",
       "    <tr>\n",
       "      <th>1</th>\n",
       "      <td>1</td>\n",
       "      <td>1.166893</td>\n",
       "    </tr>\n",
       "    <tr>\n",
       "      <th>2</th>\n",
       "      <td>2</td>\n",
       "      <td>1.166893</td>\n",
       "    </tr>\n",
       "    <tr>\n",
       "      <th>3</th>\n",
       "      <td>3</td>\n",
       "      <td>1.166893</td>\n",
       "    </tr>\n",
       "    <tr>\n",
       "      <th>4</th>\n",
       "      <td>4</td>\n",
       "      <td>1.166893</td>\n",
       "    </tr>\n",
       "  </tbody>\n",
       "</table>\n",
       "</div>"
      ],
      "text/plain": [
       "   ID  item_cnt_month\n",
       "0   0        1.166893\n",
       "1   1        1.166893\n",
       "2   2        1.166893\n",
       "3   3        1.166893\n",
       "4   4        1.166893"
      ]
     },
     "execution_count": 9,
     "metadata": {},
     "output_type": "execute_result"
    }
   ],
   "source": [
    "submission = pd.read_csv('submission.csv')\n",
    "submission.head()"
   ]
  }
 ],
 "metadata": {
  "kernelspec": {
   "display_name": "Python 3",
   "language": "python",
   "name": "python3"
  },
  "language_info": {
   "codemirror_mode": {
    "name": "ipython",
    "version": 3
   },
   "file_extension": ".py",
   "mimetype": "text/x-python",
   "name": "python",
   "nbconvert_exporter": "python",
   "pygments_lexer": "ipython3",
   "version": "3.7.6"
  },
  "papermill": {
   "duration": 233.400861,
   "end_time": "2020-08-28T00:40:12.007390",
   "environment_variables": {},
   "exception": null,
   "input_path": "__notebook__.ipynb",
   "output_path": "__notebook__.ipynb",
   "parameters": {},
   "start_time": "2020-08-28T00:36:18.606529",
   "version": "2.1.0"
  }
 },
 "nbformat": 4,
 "nbformat_minor": 4
}
