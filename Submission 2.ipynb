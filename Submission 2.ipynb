{
 "cells": [
  {
   "cell_type": "code",
   "execution_count": 1,
   "metadata": {
    "execution": {
     "iopub.execute_input": "2022-12-14T05:05:12.303725Z",
     "iopub.status.busy": "2022-12-14T05:05:12.302698Z",
     "iopub.status.idle": "2022-12-14T05:05:12.308242Z",
     "shell.execute_reply": "2022-12-14T05:05:12.307455Z"
    },
    "papermill": {
     "duration": 0.025727,
     "end_time": "2022-12-14T05:05:12.308509",
     "exception": false,
     "start_time": "2022-12-14T05:05:12.282782",
     "status": "completed"
    },
    "tags": []
   },
   "outputs": [
    {
     "name": "stdout",
     "output_type": "stream",
     "text": [
      "/kaggle/input/competitive-data-science-predict-future-sales/items.csv\n",
      "/kaggle/input/competitive-data-science-predict-future-sales/sample_submission.csv\n",
      "/kaggle/input/competitive-data-science-predict-future-sales/item_categories.csv\n",
      "/kaggle/input/competitive-data-science-predict-future-sales/sales_train.csv\n",
      "/kaggle/input/competitive-data-science-predict-future-sales/shops.csv\n",
      "/kaggle/input/competitive-data-science-predict-future-sales/test.csv\n"
     ]
    }
   ],
   "source": [
    "# This Python 3 environment comes with many helpful analytics libraries installed\n",
    "# It is defined by the kaggle/python Docker image: https://github.com/kaggle/docker-python\n",
    "# For example, here's several helpful packages to load\n",
    "\n",
    "import numpy as np # linear algebra\n",
    "import pandas as pd # data processing, CSV file I/O (e.g. pd.read_csv)\n",
    "\n",
    "# Input data files are available in the read-only \"../input/\" directory\n",
    "# For example, running this (by clicking run or pressing Shift+Enter) will list all files under the input directory\n",
    "\n",
    "import os\n",
    "for dirname, _, filenames in os.walk('/kaggle/input'):\n",
    "    for filename in filenames:\n",
    "        print(os.path.join(dirname, filename))\n",
    "\n",
    "# You can write up to 20GB to the current directory (/kaggle/working/) that gets preserved as output when you create a version using \"Save & Run All\" \n",
    "# You can also write temporary files to /kaggle/temp/, but they won't be saved outside of the current session"
   ]
  },
  {
   "cell_type": "code",
   "execution_count": 2,
   "metadata": {
    "execution": {
     "iopub.execute_input": "2022-12-14T05:05:12.339635Z",
     "iopub.status.busy": "2022-12-14T05:05:12.338670Z",
     "iopub.status.idle": "2022-12-14T05:05:15.127125Z",
     "shell.execute_reply": "2022-12-14T05:05:15.126559Z"
    },
    "papermill": {
     "duration": 2.805845,
     "end_time": "2022-12-14T05:05:15.127290",
     "exception": false,
     "start_time": "2022-12-14T05:05:12.321445",
     "status": "completed"
    },
    "tags": []
   },
   "outputs": [
    {
     "data": {
      "text/html": [
       "<div>\n",
       "<style scoped>\n",
       "    .dataframe tbody tr th:only-of-type {\n",
       "        vertical-align: middle;\n",
       "    }\n",
       "\n",
       "    .dataframe tbody tr th {\n",
       "        vertical-align: top;\n",
       "    }\n",
       "\n",
       "    .dataframe thead th {\n",
       "        text-align: right;\n",
       "    }\n",
       "</style>\n",
       "<table border=\"1\" class=\"dataframe\">\n",
       "  <thead>\n",
       "    <tr style=\"text-align: right;\">\n",
       "      <th></th>\n",
       "      <th>date</th>\n",
       "      <th>date_block_num</th>\n",
       "      <th>shop_id</th>\n",
       "      <th>item_id</th>\n",
       "      <th>item_price</th>\n",
       "      <th>item_cnt_day</th>\n",
       "    </tr>\n",
       "  </thead>\n",
       "  <tbody>\n",
       "    <tr>\n",
       "      <th>2885849</th>\n",
       "      <td>18.10.2015</td>\n",
       "      <td>33</td>\n",
       "      <td>42</td>\n",
       "      <td>13300</td>\n",
       "      <td>539.0</td>\n",
       "      <td>1.0</td>\n",
       "    </tr>\n",
       "    <tr>\n",
       "      <th>2885850</th>\n",
       "      <td>04.10.2015</td>\n",
       "      <td>33</td>\n",
       "      <td>42</td>\n",
       "      <td>11925</td>\n",
       "      <td>549.0</td>\n",
       "      <td>1.0</td>\n",
       "    </tr>\n",
       "    <tr>\n",
       "      <th>2885851</th>\n",
       "      <td>07.10.2015</td>\n",
       "      <td>33</td>\n",
       "      <td>42</td>\n",
       "      <td>13300</td>\n",
       "      <td>539.0</td>\n",
       "      <td>1.0</td>\n",
       "    </tr>\n",
       "    <tr>\n",
       "      <th>2885852</th>\n",
       "      <td>19.10.2015</td>\n",
       "      <td>33</td>\n",
       "      <td>42</td>\n",
       "      <td>13294</td>\n",
       "      <td>429.0</td>\n",
       "      <td>1.0</td>\n",
       "    </tr>\n",
       "    <tr>\n",
       "      <th>2885853</th>\n",
       "      <td>23.10.2015</td>\n",
       "      <td>33</td>\n",
       "      <td>42</td>\n",
       "      <td>13281</td>\n",
       "      <td>749.0</td>\n",
       "      <td>1.0</td>\n",
       "    </tr>\n",
       "  </tbody>\n",
       "</table>\n",
       "</div>"
      ],
      "text/plain": [
       "               date  date_block_num  shop_id  item_id  item_price  \\\n",
       "2885849  18.10.2015              33       42    13300       539.0   \n",
       "2885850  04.10.2015              33       42    11925       549.0   \n",
       "2885851  07.10.2015              33       42    13300       539.0   \n",
       "2885852  19.10.2015              33       42    13294       429.0   \n",
       "2885853  23.10.2015              33       42    13281       749.0   \n",
       "\n",
       "         item_cnt_day  \n",
       "2885849           1.0  \n",
       "2885850           1.0  \n",
       "2885851           1.0  \n",
       "2885852           1.0  \n",
       "2885853           1.0  "
      ]
     },
     "execution_count": 2,
     "metadata": {},
     "output_type": "execute_result"
    }
   ],
   "source": [
    "df=pd.read_csv(\"/kaggle/input/competitive-data-science-predict-future-sales/sales_train.csv\")\n",
    "df=df[2885849:]\n",
    "\n",
    "test_data=pd.read_csv(\"../input/competitive-data-science-predict-future-sales/test.csv\")\n",
    "\n",
    "test = test_data.drop(\"ID\", axis=1)\n",
    "df.head()\n"
   ]
  },
  {
   "cell_type": "code",
   "execution_count": 3,
   "metadata": {
    "execution": {
     "iopub.execute_input": "2022-12-14T05:05:15.158022Z",
     "iopub.status.busy": "2022-12-14T05:05:15.157252Z",
     "iopub.status.idle": "2022-12-14T05:05:16.026725Z",
     "shell.execute_reply": "2022-12-14T05:05:16.025992Z"
    },
    "papermill": {
     "duration": 0.886819,
     "end_time": "2022-12-14T05:05:16.026888",
     "exception": false,
     "start_time": "2022-12-14T05:05:15.140069",
     "status": "completed"
    },
    "tags": []
   },
   "outputs": [],
   "source": [
    "import pandas as pd\n",
    "import numpy as np\n",
    "import sklearn\n",
    "from sklearn import preprocessing \n",
    "import regex as re\n",
    "\n"
   ]
  },
  {
   "cell_type": "code",
   "execution_count": 4,
   "metadata": {
    "execution": {
     "iopub.execute_input": "2022-12-14T05:05:16.058503Z",
     "iopub.status.busy": "2022-12-14T05:05:16.057752Z",
     "iopub.status.idle": "2022-12-14T05:05:16.647830Z",
     "shell.execute_reply": "2022-12-14T05:05:16.648773Z"
    },
    "papermill": {
     "duration": 0.609288,
     "end_time": "2022-12-14T05:05:16.649153",
     "exception": false,
     "start_time": "2022-12-14T05:05:16.039865",
     "status": "completed"
    },
    "tags": []
   },
   "outputs": [],
   "source": [
    "from sklearn.neighbors import KNeighborsClassifier\n",
    "from sklearn.ensemble import RandomForestClassifier\n",
    "from sklearn.svm import SVC\n",
    "from sklearn.model_selection import train_test_split\n",
    "from sklearn import linear_model\n",
    "from sklearn import neighbors\n",
    "from sklearn.preprocessing import OneHotEncoder\n",
    "from xgboost import XGBClassifier"
   ]
  },
  {
   "cell_type": "code",
   "execution_count": 5,
   "metadata": {
    "execution": {
     "iopub.execute_input": "2022-12-14T05:05:16.696108Z",
     "iopub.status.busy": "2022-12-14T05:05:16.695116Z",
     "iopub.status.idle": "2022-12-14T05:05:16.700691Z",
     "shell.execute_reply": "2022-12-14T05:05:16.701174Z"
    },
    "papermill": {
     "duration": 0.035571,
     "end_time": "2022-12-14T05:05:16.701375",
     "exception": false,
     "start_time": "2022-12-14T05:05:16.665804",
     "status": "completed"
    },
    "tags": []
   },
   "outputs": [],
   "source": [
    "df=df.drop(columns=['date_block_num'], axis=1)\n",
    "df['item_id'].fillna((df['item_id'].mean()), inplace=True)\n",
    "df['item_id'].fillna((df['item_id'].mean()), inplace=True) \n",
    "df['item_price'].fillna((df['item_price'].mean()), inplace=True) \n",
    "df['item_cnt_day'].fillna((df['item_cnt_day'].mean()), inplace=True)"
   ]
  },
  {
   "cell_type": "code",
   "execution_count": 6,
   "metadata": {
    "execution": {
     "iopub.execute_input": "2022-12-14T05:05:16.736849Z",
     "iopub.status.busy": "2022-12-14T05:05:16.736052Z",
     "iopub.status.idle": "2022-12-14T05:05:16.739667Z",
     "shell.execute_reply": "2022-12-14T05:05:16.738937Z"
    },
    "papermill": {
     "duration": 0.02526,
     "end_time": "2022-12-14T05:05:16.739838",
     "exception": false,
     "start_time": "2022-12-14T05:05:16.714578",
     "status": "completed"
    },
    "tags": []
   },
   "outputs": [],
   "source": [
    "def add_datepart(df, fldname, drop=True, time=False):\n",
    "    \"Helper function that adds columns relevant to a date.\"\n",
    "    fld = df[fldname]\n",
    "    fld_dtype = fld.dtype\n",
    "    if isinstance(fld_dtype, pd.core.dtypes.dtypes.DatetimeTZDtype):\n",
    "        fld_dtype = np.datetime64\n",
    "\n",
    "    if not np.issubdtype(fld_dtype, np.datetime64):\n",
    "        df[fldname] = fld = pd.to_datetime(fld, infer_datetime_format=True)\n",
    "    targ_pre = re.sub('[Dd]ate$', '', fldname)\n",
    "    attr = ['Year', 'Month', 'Week', 'Day', 'Dayofweek', 'Dayofyear',\n",
    "            'Is_month_end', 'Is_month_start', 'Is_quarter_end', 'Is_quarter_start', 'Is_year_end', 'Is_year_start']\n",
    "    if time: attr = attr + ['Hour', 'Minute', 'Second']\n",
    "    for n in attr: df[targ_pre + n] = getattr(fld.dt, n.lower())\n",
    "    df[targ_pre + 'Elapsed'] = fld.astype(np.int64) // 10 ** 9\n",
    "    if drop: df.drop(fldname, axis=1, inplace=True)"
   ]
  },
  {
   "cell_type": "code",
   "execution_count": 7,
   "metadata": {
    "execution": {
     "iopub.execute_input": "2022-12-14T05:05:16.776715Z",
     "iopub.status.busy": "2022-12-14T05:05:16.775685Z",
     "iopub.status.idle": "2022-12-14T05:05:16.889512Z",
     "shell.execute_reply": "2022-12-14T05:05:16.890126Z"
    },
    "papermill": {
     "duration": 0.137391,
     "end_time": "2022-12-14T05:05:16.890333",
     "exception": false,
     "start_time": "2022-12-14T05:05:16.752942",
     "status": "completed"
    },
    "tags": []
   },
   "outputs": [
    {
     "name": "stderr",
     "output_type": "stream",
     "text": [
      "/opt/conda/lib/python3.7/site-packages/ipykernel_launcher.py:14: FutureWarning: Series.dt.weekofyear and Series.dt.week have been deprecated.  Please use Series.dt.isocalendar().week instead.\n",
      "  \n"
     ]
    }
   ],
   "source": [
    "add_datepart(df,\"date\")\n",
    "df=df.drop(\"Elapsed\", axis=1)\n"
   ]
  },
  {
   "cell_type": "code",
   "execution_count": 8,
   "metadata": {
    "execution": {
     "iopub.execute_input": "2022-12-14T05:05:16.938831Z",
     "iopub.status.busy": "2022-12-14T05:05:16.938096Z",
     "iopub.status.idle": "2022-12-14T05:05:16.941519Z",
     "shell.execute_reply": "2022-12-14T05:05:16.942057Z"
    },
    "papermill": {
     "duration": 0.037855,
     "end_time": "2022-12-14T05:05:16.942256",
     "exception": false,
     "start_time": "2022-12-14T05:05:16.904401",
     "status": "completed"
    },
    "tags": []
   },
   "outputs": [
    {
     "data": {
      "text/html": [
       "<div>\n",
       "<style scoped>\n",
       "    .dataframe tbody tr th:only-of-type {\n",
       "        vertical-align: middle;\n",
       "    }\n",
       "\n",
       "    .dataframe tbody tr th {\n",
       "        vertical-align: top;\n",
       "    }\n",
       "\n",
       "    .dataframe thead th {\n",
       "        text-align: right;\n",
       "    }\n",
       "</style>\n",
       "<table border=\"1\" class=\"dataframe\">\n",
       "  <thead>\n",
       "    <tr style=\"text-align: right;\">\n",
       "      <th></th>\n",
       "      <th>shop_id</th>\n",
       "      <th>item_id</th>\n",
       "      <th>item_price</th>\n",
       "      <th>item_cnt_day</th>\n",
       "      <th>Year</th>\n",
       "      <th>Month</th>\n",
       "      <th>Week</th>\n",
       "      <th>Day</th>\n",
       "      <th>Dayofweek</th>\n",
       "      <th>Dayofyear</th>\n",
       "      <th>Is_month_end</th>\n",
       "      <th>Is_month_start</th>\n",
       "      <th>Is_quarter_end</th>\n",
       "      <th>Is_quarter_start</th>\n",
       "      <th>Is_year_end</th>\n",
       "      <th>Is_year_start</th>\n",
       "    </tr>\n",
       "  </thead>\n",
       "  <tbody>\n",
       "    <tr>\n",
       "      <th>2885849</th>\n",
       "      <td>42</td>\n",
       "      <td>13300</td>\n",
       "      <td>539.0</td>\n",
       "      <td>1.0</td>\n",
       "      <td>2015</td>\n",
       "      <td>10</td>\n",
       "      <td>42</td>\n",
       "      <td>18</td>\n",
       "      <td>6</td>\n",
       "      <td>291</td>\n",
       "      <td>False</td>\n",
       "      <td>False</td>\n",
       "      <td>False</td>\n",
       "      <td>False</td>\n",
       "      <td>False</td>\n",
       "      <td>False</td>\n",
       "    </tr>\n",
       "    <tr>\n",
       "      <th>2885850</th>\n",
       "      <td>42</td>\n",
       "      <td>11925</td>\n",
       "      <td>549.0</td>\n",
       "      <td>1.0</td>\n",
       "      <td>2015</td>\n",
       "      <td>10</td>\n",
       "      <td>40</td>\n",
       "      <td>4</td>\n",
       "      <td>6</td>\n",
       "      <td>277</td>\n",
       "      <td>False</td>\n",
       "      <td>False</td>\n",
       "      <td>False</td>\n",
       "      <td>False</td>\n",
       "      <td>False</td>\n",
       "      <td>False</td>\n",
       "    </tr>\n",
       "    <tr>\n",
       "      <th>2885851</th>\n",
       "      <td>42</td>\n",
       "      <td>13300</td>\n",
       "      <td>539.0</td>\n",
       "      <td>1.0</td>\n",
       "      <td>2015</td>\n",
       "      <td>10</td>\n",
       "      <td>41</td>\n",
       "      <td>7</td>\n",
       "      <td>2</td>\n",
       "      <td>280</td>\n",
       "      <td>False</td>\n",
       "      <td>False</td>\n",
       "      <td>False</td>\n",
       "      <td>False</td>\n",
       "      <td>False</td>\n",
       "      <td>False</td>\n",
       "    </tr>\n",
       "    <tr>\n",
       "      <th>2885852</th>\n",
       "      <td>42</td>\n",
       "      <td>13294</td>\n",
       "      <td>429.0</td>\n",
       "      <td>1.0</td>\n",
       "      <td>2015</td>\n",
       "      <td>10</td>\n",
       "      <td>43</td>\n",
       "      <td>19</td>\n",
       "      <td>0</td>\n",
       "      <td>292</td>\n",
       "      <td>False</td>\n",
       "      <td>False</td>\n",
       "      <td>False</td>\n",
       "      <td>False</td>\n",
       "      <td>False</td>\n",
       "      <td>False</td>\n",
       "    </tr>\n",
       "    <tr>\n",
       "      <th>2885853</th>\n",
       "      <td>42</td>\n",
       "      <td>13281</td>\n",
       "      <td>749.0</td>\n",
       "      <td>1.0</td>\n",
       "      <td>2015</td>\n",
       "      <td>10</td>\n",
       "      <td>43</td>\n",
       "      <td>23</td>\n",
       "      <td>4</td>\n",
       "      <td>296</td>\n",
       "      <td>False</td>\n",
       "      <td>False</td>\n",
       "      <td>False</td>\n",
       "      <td>False</td>\n",
       "      <td>False</td>\n",
       "      <td>False</td>\n",
       "    </tr>\n",
       "  </tbody>\n",
       "</table>\n",
       "</div>"
      ],
      "text/plain": [
       "         shop_id  item_id  item_price  item_cnt_day  Year  Month  Week  Day  \\\n",
       "2885849       42    13300       539.0           1.0  2015     10    42   18   \n",
       "2885850       42    11925       549.0           1.0  2015     10    40    4   \n",
       "2885851       42    13300       539.0           1.0  2015     10    41    7   \n",
       "2885852       42    13294       429.0           1.0  2015     10    43   19   \n",
       "2885853       42    13281       749.0           1.0  2015     10    43   23   \n",
       "\n",
       "         Dayofweek  Dayofyear  Is_month_end  Is_month_start  Is_quarter_end  \\\n",
       "2885849          6        291         False           False           False   \n",
       "2885850          6        277         False           False           False   \n",
       "2885851          2        280         False           False           False   \n",
       "2885852          0        292         False           False           False   \n",
       "2885853          4        296         False           False           False   \n",
       "\n",
       "         Is_quarter_start  Is_year_end  Is_year_start  \n",
       "2885849             False        False          False  \n",
       "2885850             False        False          False  \n",
       "2885851             False        False          False  \n",
       "2885852             False        False          False  \n",
       "2885853             False        False          False  "
      ]
     },
     "execution_count": 8,
     "metadata": {},
     "output_type": "execute_result"
    }
   ],
   "source": [
    "df.head()"
   ]
  },
  {
   "cell_type": "code",
   "execution_count": 9,
   "metadata": {
    "execution": {
     "iopub.execute_input": "2022-12-14T05:05:16.974267Z",
     "iopub.status.busy": "2022-12-14T05:05:16.973337Z",
     "iopub.status.idle": "2022-12-14T05:05:16.977706Z",
     "shell.execute_reply": "2022-12-14T05:05:16.978260Z"
    },
    "papermill": {
     "duration": 0.022034,
     "end_time": "2022-12-14T05:05:16.978480",
     "exception": false,
     "start_time": "2022-12-14T05:05:16.956446",
     "status": "completed"
    },
    "tags": []
   },
   "outputs": [],
   "source": [
    "label_encoder = preprocessing.LabelEncoder()"
   ]
  },
  {
   "cell_type": "code",
   "execution_count": 10,
   "metadata": {
    "execution": {
     "iopub.execute_input": "2022-12-14T05:05:17.011748Z",
     "iopub.status.busy": "2022-12-14T05:05:17.011015Z",
     "iopub.status.idle": "2022-12-14T05:05:17.030706Z",
     "shell.execute_reply": "2022-12-14T05:05:17.030098Z"
    },
    "papermill": {
     "duration": 0.038001,
     "end_time": "2022-12-14T05:05:17.030879",
     "exception": false,
     "start_time": "2022-12-14T05:05:16.992878",
     "status": "completed"
    },
    "tags": []
   },
   "outputs": [],
   "source": [
    "df['Is_month_end']= label_encoder.fit_transform(df['Is_month_end']) \n",
    "df['Is_month_start']= label_encoder.fit_transform(df['Is_month_start']) \n",
    "df['Is_quarter_end']= label_encoder.fit_transform(df['Is_quarter_end']) \n",
    "df['Is_quarter_start']= label_encoder.fit_transform(df['Is_quarter_start']) \n",
    "df['Is_year_end']= label_encoder.fit_transform(df['Is_year_end']) \n",
    "df['Is_year_start']= label_encoder.fit_transform(df['Is_year_start'])"
   ]
  },
  {
   "cell_type": "code",
   "execution_count": 11,
   "metadata": {
    "execution": {
     "iopub.execute_input": "2022-12-14T05:05:17.078836Z",
     "iopub.status.busy": "2022-12-14T05:05:17.078093Z",
     "iopub.status.idle": "2022-12-14T05:05:17.081368Z",
     "shell.execute_reply": "2022-12-14T05:05:17.081897Z"
    },
    "papermill": {
     "duration": 0.035545,
     "end_time": "2022-12-14T05:05:17.082086",
     "exception": false,
     "start_time": "2022-12-14T05:05:17.046541",
     "status": "completed"
    },
    "tags": []
   },
   "outputs": [
    {
     "data": {
      "text/html": [
       "<div>\n",
       "<style scoped>\n",
       "    .dataframe tbody tr th:only-of-type {\n",
       "        vertical-align: middle;\n",
       "    }\n",
       "\n",
       "    .dataframe tbody tr th {\n",
       "        vertical-align: top;\n",
       "    }\n",
       "\n",
       "    .dataframe thead th {\n",
       "        text-align: right;\n",
       "    }\n",
       "</style>\n",
       "<table border=\"1\" class=\"dataframe\">\n",
       "  <thead>\n",
       "    <tr style=\"text-align: right;\">\n",
       "      <th></th>\n",
       "      <th>shop_id</th>\n",
       "      <th>item_id</th>\n",
       "      <th>item_price</th>\n",
       "      <th>item_cnt_day</th>\n",
       "      <th>Year</th>\n",
       "      <th>Month</th>\n",
       "      <th>Week</th>\n",
       "      <th>Day</th>\n",
       "      <th>Dayofweek</th>\n",
       "      <th>Dayofyear</th>\n",
       "      <th>Is_month_end</th>\n",
       "      <th>Is_month_start</th>\n",
       "      <th>Is_quarter_end</th>\n",
       "      <th>Is_quarter_start</th>\n",
       "      <th>Is_year_end</th>\n",
       "      <th>Is_year_start</th>\n",
       "    </tr>\n",
       "  </thead>\n",
       "  <tbody>\n",
       "    <tr>\n",
       "      <th>2885849</th>\n",
       "      <td>42</td>\n",
       "      <td>13300</td>\n",
       "      <td>539.0</td>\n",
       "      <td>1.0</td>\n",
       "      <td>2015</td>\n",
       "      <td>10</td>\n",
       "      <td>42</td>\n",
       "      <td>18</td>\n",
       "      <td>6</td>\n",
       "      <td>291</td>\n",
       "      <td>0</td>\n",
       "      <td>0</td>\n",
       "      <td>0</td>\n",
       "      <td>0</td>\n",
       "      <td>0</td>\n",
       "      <td>0</td>\n",
       "    </tr>\n",
       "    <tr>\n",
       "      <th>2885850</th>\n",
       "      <td>42</td>\n",
       "      <td>11925</td>\n",
       "      <td>549.0</td>\n",
       "      <td>1.0</td>\n",
       "      <td>2015</td>\n",
       "      <td>10</td>\n",
       "      <td>40</td>\n",
       "      <td>4</td>\n",
       "      <td>6</td>\n",
       "      <td>277</td>\n",
       "      <td>0</td>\n",
       "      <td>0</td>\n",
       "      <td>0</td>\n",
       "      <td>0</td>\n",
       "      <td>0</td>\n",
       "      <td>0</td>\n",
       "    </tr>\n",
       "    <tr>\n",
       "      <th>2885851</th>\n",
       "      <td>42</td>\n",
       "      <td>13300</td>\n",
       "      <td>539.0</td>\n",
       "      <td>1.0</td>\n",
       "      <td>2015</td>\n",
       "      <td>10</td>\n",
       "      <td>41</td>\n",
       "      <td>7</td>\n",
       "      <td>2</td>\n",
       "      <td>280</td>\n",
       "      <td>0</td>\n",
       "      <td>0</td>\n",
       "      <td>0</td>\n",
       "      <td>0</td>\n",
       "      <td>0</td>\n",
       "      <td>0</td>\n",
       "    </tr>\n",
       "    <tr>\n",
       "      <th>2885852</th>\n",
       "      <td>42</td>\n",
       "      <td>13294</td>\n",
       "      <td>429.0</td>\n",
       "      <td>1.0</td>\n",
       "      <td>2015</td>\n",
       "      <td>10</td>\n",
       "      <td>43</td>\n",
       "      <td>19</td>\n",
       "      <td>0</td>\n",
       "      <td>292</td>\n",
       "      <td>0</td>\n",
       "      <td>0</td>\n",
       "      <td>0</td>\n",
       "      <td>0</td>\n",
       "      <td>0</td>\n",
       "      <td>0</td>\n",
       "    </tr>\n",
       "    <tr>\n",
       "      <th>2885853</th>\n",
       "      <td>42</td>\n",
       "      <td>13281</td>\n",
       "      <td>749.0</td>\n",
       "      <td>1.0</td>\n",
       "      <td>2015</td>\n",
       "      <td>10</td>\n",
       "      <td>43</td>\n",
       "      <td>23</td>\n",
       "      <td>4</td>\n",
       "      <td>296</td>\n",
       "      <td>0</td>\n",
       "      <td>0</td>\n",
       "      <td>0</td>\n",
       "      <td>0</td>\n",
       "      <td>0</td>\n",
       "      <td>0</td>\n",
       "    </tr>\n",
       "  </tbody>\n",
       "</table>\n",
       "</div>"
      ],
      "text/plain": [
       "         shop_id  item_id  item_price  item_cnt_day  Year  Month  Week  Day  \\\n",
       "2885849       42    13300       539.0           1.0  2015     10    42   18   \n",
       "2885850       42    11925       549.0           1.0  2015     10    40    4   \n",
       "2885851       42    13300       539.0           1.0  2015     10    41    7   \n",
       "2885852       42    13294       429.0           1.0  2015     10    43   19   \n",
       "2885853       42    13281       749.0           1.0  2015     10    43   23   \n",
       "\n",
       "         Dayofweek  Dayofyear  Is_month_end  Is_month_start  Is_quarter_end  \\\n",
       "2885849          6        291             0               0               0   \n",
       "2885850          6        277             0               0               0   \n",
       "2885851          2        280             0               0               0   \n",
       "2885852          0        292             0               0               0   \n",
       "2885853          4        296             0               0               0   \n",
       "\n",
       "         Is_quarter_start  Is_year_end  Is_year_start  \n",
       "2885849                 0            0              0  \n",
       "2885850                 0            0              0  \n",
       "2885851                 0            0              0  \n",
       "2885852                 0            0              0  \n",
       "2885853                 0            0              0  "
      ]
     },
     "execution_count": 11,
     "metadata": {},
     "output_type": "execute_result"
    }
   ],
   "source": [
    "df.head()"
   ]
  },
  {
   "cell_type": "code",
   "execution_count": 12,
   "metadata": {
    "execution": {
     "iopub.execute_input": "2022-12-14T05:05:17.115417Z",
     "iopub.status.busy": "2022-12-14T05:05:17.114726Z",
     "iopub.status.idle": "2022-12-14T05:05:17.249046Z",
     "shell.execute_reply": "2022-12-14T05:05:17.248450Z"
    },
    "papermill": {
     "duration": 0.152146,
     "end_time": "2022-12-14T05:05:17.249202",
     "exception": false,
     "start_time": "2022-12-14T05:05:17.097056",
     "status": "completed"
    },
    "tags": []
   },
   "outputs": [
    {
     "data": {
      "text/html": [
       "<div>\n",
       "<style scoped>\n",
       "    .dataframe tbody tr th:only-of-type {\n",
       "        vertical-align: middle;\n",
       "    }\n",
       "\n",
       "    .dataframe tbody tr th {\n",
       "        vertical-align: top;\n",
       "    }\n",
       "\n",
       "    .dataframe thead th {\n",
       "        text-align: right;\n",
       "    }\n",
       "</style>\n",
       "<table border=\"1\" class=\"dataframe\">\n",
       "  <thead>\n",
       "    <tr style=\"text-align: right;\">\n",
       "      <th></th>\n",
       "      <th>shop_id</th>\n",
       "      <th>item_id</th>\n",
       "      <th>item_price</th>\n",
       "      <th>Year</th>\n",
       "      <th>Month</th>\n",
       "      <th>Week</th>\n",
       "      <th>Day</th>\n",
       "      <th>Dayofweek</th>\n",
       "      <th>Dayofyear</th>\n",
       "      <th>Is_month_end</th>\n",
       "      <th>Is_month_start</th>\n",
       "      <th>Is_quarter_end</th>\n",
       "      <th>Is_quarter_start</th>\n",
       "      <th>Is_year_end</th>\n",
       "      <th>Is_year_start</th>\n",
       "    </tr>\n",
       "  </thead>\n",
       "  <tbody>\n",
       "    <tr>\n",
       "      <th>0</th>\n",
       "      <td>5</td>\n",
       "      <td>5037</td>\n",
       "      <td>1221.149775</td>\n",
       "      <td>2015.0</td>\n",
       "      <td>10.0</td>\n",
       "      <td>42.04146</td>\n",
       "      <td>15.85972</td>\n",
       "      <td>3.5695</td>\n",
       "      <td>288.85972</td>\n",
       "      <td>0.04832</td>\n",
       "      <td>0.02982</td>\n",
       "      <td>0.0</td>\n",
       "      <td>0.02982</td>\n",
       "      <td>0.0</td>\n",
       "      <td>0.0</td>\n",
       "    </tr>\n",
       "    <tr>\n",
       "      <th>1</th>\n",
       "      <td>5</td>\n",
       "      <td>5320</td>\n",
       "      <td>1221.149775</td>\n",
       "      <td>2015.0</td>\n",
       "      <td>10.0</td>\n",
       "      <td>42.04146</td>\n",
       "      <td>15.85972</td>\n",
       "      <td>3.5695</td>\n",
       "      <td>288.85972</td>\n",
       "      <td>0.04832</td>\n",
       "      <td>0.02982</td>\n",
       "      <td>0.0</td>\n",
       "      <td>0.02982</td>\n",
       "      <td>0.0</td>\n",
       "      <td>0.0</td>\n",
       "    </tr>\n",
       "    <tr>\n",
       "      <th>2</th>\n",
       "      <td>5</td>\n",
       "      <td>5233</td>\n",
       "      <td>1221.149775</td>\n",
       "      <td>2015.0</td>\n",
       "      <td>10.0</td>\n",
       "      <td>42.04146</td>\n",
       "      <td>15.85972</td>\n",
       "      <td>3.5695</td>\n",
       "      <td>288.85972</td>\n",
       "      <td>0.04832</td>\n",
       "      <td>0.02982</td>\n",
       "      <td>0.0</td>\n",
       "      <td>0.02982</td>\n",
       "      <td>0.0</td>\n",
       "      <td>0.0</td>\n",
       "    </tr>\n",
       "    <tr>\n",
       "      <th>3</th>\n",
       "      <td>5</td>\n",
       "      <td>5232</td>\n",
       "      <td>1221.149775</td>\n",
       "      <td>2015.0</td>\n",
       "      <td>10.0</td>\n",
       "      <td>42.04146</td>\n",
       "      <td>15.85972</td>\n",
       "      <td>3.5695</td>\n",
       "      <td>288.85972</td>\n",
       "      <td>0.04832</td>\n",
       "      <td>0.02982</td>\n",
       "      <td>0.0</td>\n",
       "      <td>0.02982</td>\n",
       "      <td>0.0</td>\n",
       "      <td>0.0</td>\n",
       "    </tr>\n",
       "    <tr>\n",
       "      <th>4</th>\n",
       "      <td>5</td>\n",
       "      <td>5268</td>\n",
       "      <td>1221.149775</td>\n",
       "      <td>2015.0</td>\n",
       "      <td>10.0</td>\n",
       "      <td>42.04146</td>\n",
       "      <td>15.85972</td>\n",
       "      <td>3.5695</td>\n",
       "      <td>288.85972</td>\n",
       "      <td>0.04832</td>\n",
       "      <td>0.02982</td>\n",
       "      <td>0.0</td>\n",
       "      <td>0.02982</td>\n",
       "      <td>0.0</td>\n",
       "      <td>0.0</td>\n",
       "    </tr>\n",
       "  </tbody>\n",
       "</table>\n",
       "</div>"
      ],
      "text/plain": [
       "   shop_id  item_id   item_price    Year  Month      Week       Day  \\\n",
       "0        5     5037  1221.149775  2015.0   10.0  42.04146  15.85972   \n",
       "1        5     5320  1221.149775  2015.0   10.0  42.04146  15.85972   \n",
       "2        5     5233  1221.149775  2015.0   10.0  42.04146  15.85972   \n",
       "3        5     5232  1221.149775  2015.0   10.0  42.04146  15.85972   \n",
       "4        5     5268  1221.149775  2015.0   10.0  42.04146  15.85972   \n",
       "\n",
       "   Dayofweek  Dayofyear  Is_month_end  Is_month_start  Is_quarter_end  \\\n",
       "0     3.5695  288.85972       0.04832         0.02982             0.0   \n",
       "1     3.5695  288.85972       0.04832         0.02982             0.0   \n",
       "2     3.5695  288.85972       0.04832         0.02982             0.0   \n",
       "3     3.5695  288.85972       0.04832         0.02982             0.0   \n",
       "4     3.5695  288.85972       0.04832         0.02982             0.0   \n",
       "\n",
       "   Is_quarter_start  Is_year_end  Is_year_start  \n",
       "0           0.02982          0.0            0.0  \n",
       "1           0.02982          0.0            0.0  \n",
       "2           0.02982          0.0            0.0  \n",
       "3           0.02982          0.0            0.0  \n",
       "4           0.02982          0.0            0.0  "
      ]
     },
     "execution_count": 12,
     "metadata": {},
     "output_type": "execute_result"
    }
   ],
   "source": [
    "test['item_price']=df['item_price']\n",
    "test['item_price'].fillna((df['item_price'].mean()), inplace=True)\n",
    "test['Year']=df['Year']\n",
    "test['Year'].fillna((df['Year'].mean()), inplace=True)\n",
    "test['Month']=df['Month']\n",
    "test['Month'].fillna((df['Month'].mean()), inplace=True)\n",
    "test['Week']=df['Week']\n",
    "test['Week'].fillna((df['Week'].mean()), inplace=True)\n",
    "test['Day']=df['Day']\n",
    "test['Day'].fillna((df['Day'].mean()), inplace=True)\n",
    "test['Dayofweek']=df['Dayofweek']\n",
    "test['Dayofweek'].fillna((df['Dayofweek'].mean()), inplace=True)\n",
    "test['Dayofyear']=df['Dayofyear']\n",
    "test['Dayofyear'].fillna((df['Dayofyear'].mean()), inplace=True)\n",
    "test['Is_month_end']=df['Is_month_end']\n",
    "test['Is_month_end'].fillna((df['Is_month_end'].mean()), inplace=True)\n",
    "test['Is_month_start']=df['Is_month_start']\n",
    "test['Is_month_start'].fillna((df['Is_month_start'].mean()), inplace=True)\n",
    "test['Is_quarter_end']=df['Is_quarter_end']\n",
    "test['Is_quarter_end'].fillna((df['Is_quarter_end'].mean()), inplace=True)\n",
    "test['Is_quarter_start']=df['Is_quarter_start']\n",
    "test['Is_quarter_start'].fillna((df['Is_quarter_start'].mean()), inplace=True)\n",
    "test['Is_year_end']=df['Is_year_end']\n",
    "test['Is_year_end'].fillna((df['Is_year_end'].mean()), inplace=True)\n",
    "test['Is_year_start']=df['Is_year_start']\n",
    "test['Is_year_start'].fillna((df['Is_year_start'].mean()), inplace=True)\n",
    "test.head()"
   ]
  },
  {
   "cell_type": "code",
   "execution_count": 13,
   "metadata": {
    "execution": {
     "iopub.execute_input": "2022-12-14T05:05:17.287314Z",
     "iopub.status.busy": "2022-12-14T05:05:17.286595Z",
     "iopub.status.idle": "2022-12-14T05:05:17.300743Z",
     "shell.execute_reply": "2022-12-14T05:05:17.300081Z"
    },
    "papermill": {
     "duration": 0.035933,
     "end_time": "2022-12-14T05:05:17.300906",
     "exception": false,
     "start_time": "2022-12-14T05:05:17.264973",
     "status": "completed"
    },
    "tags": []
   },
   "outputs": [],
   "source": [
    "item_cnt=df['item_cnt_day']\n",
    "df=df.drop(labels='item_cnt_day',axis=1)\n",
    "df.insert(15,'item_cnt_day',item_cnt);"
   ]
  },
  {
   "cell_type": "code",
   "execution_count": 14,
   "metadata": {
    "execution": {
     "iopub.execute_input": "2022-12-14T05:05:17.337708Z",
     "iopub.status.busy": "2022-12-14T05:05:17.336937Z",
     "iopub.status.idle": "2022-12-14T05:05:17.341090Z",
     "shell.execute_reply": "2022-12-14T05:05:17.340497Z"
    },
    "papermill": {
     "duration": 0.024612,
     "end_time": "2022-12-14T05:05:17.341243",
     "exception": false,
     "start_time": "2022-12-14T05:05:17.316631",
     "status": "completed"
    },
    "tags": []
   },
   "outputs": [
    {
     "data": {
      "text/plain": [
       "40000.0"
      ]
     },
     "execution_count": 14,
     "metadata": {},
     "output_type": "execute_result"
    }
   ],
   "source": [
    "(80*len(df))/100"
   ]
  },
  {
   "cell_type": "code",
   "execution_count": 15,
   "metadata": {
    "execution": {
     "iopub.execute_input": "2022-12-14T05:05:17.380392Z",
     "iopub.status.busy": "2022-12-14T05:05:17.379727Z",
     "iopub.status.idle": "2022-12-14T05:05:17.384588Z",
     "shell.execute_reply": "2022-12-14T05:05:17.384054Z"
    },
    "papermill": {
     "duration": 0.027368,
     "end_time": "2022-12-14T05:05:17.384758",
     "exception": false,
     "start_time": "2022-12-14T05:05:17.357390",
     "status": "completed"
    },
    "tags": []
   },
   "outputs": [
    {
     "data": {
      "text/plain": [
       "(40001, 10000)"
      ]
     },
     "execution_count": 15,
     "metadata": {},
     "output_type": "execute_result"
    }
   ],
   "source": [
    "train_df=df.loc[2885849:2925849]\n",
    "valid_df=df.loc[2925849:]\n",
    "len(train_df),len(valid_df)"
   ]
  },
  {
   "cell_type": "code",
   "execution_count": 16,
   "metadata": {
    "execution": {
     "iopub.execute_input": "2022-12-14T05:05:17.426873Z",
     "iopub.status.busy": "2022-12-14T05:05:17.423509Z",
     "iopub.status.idle": "2022-12-14T05:05:17.432472Z",
     "shell.execute_reply": "2022-12-14T05:05:17.431804Z"
    },
    "papermill": {
     "duration": 0.031363,
     "end_time": "2022-12-14T05:05:17.432700",
     "exception": false,
     "start_time": "2022-12-14T05:05:17.401337",
     "status": "completed"
    },
    "tags": []
   },
   "outputs": [],
   "source": [
    "y_train=train_df['item_cnt_day']\n",
    "x_train=train_df.drop('item_cnt_day',axis=1)\n",
    "y_valid=valid_df['item_cnt_day']\n",
    "x_valid=valid_df.drop('item_cnt_day',axis=1)"
   ]
  },
  {
   "cell_type": "code",
   "execution_count": 17,
   "metadata": {
    "execution": {
     "iopub.execute_input": "2022-12-14T05:05:17.473862Z",
     "iopub.status.busy": "2022-12-14T05:05:17.472738Z",
     "iopub.status.idle": "2022-12-14T05:05:17.476120Z",
     "shell.execute_reply": "2022-12-14T05:05:17.475398Z"
    },
    "papermill": {
     "duration": 0.026553,
     "end_time": "2022-12-14T05:05:17.476327",
     "exception": false,
     "start_time": "2022-12-14T05:05:17.449774",
     "status": "completed"
    },
    "tags": []
   },
   "outputs": [],
   "source": [
    "model1=RandomForestClassifier()\n",
    "model2=XGBClassifier()\n",
    "model3=neighbors.KNeighborsClassifier()\n",
    "model4=SVC()"
   ]
  },
  {
   "cell_type": "code",
   "execution_count": 18,
   "metadata": {
    "execution": {
     "iopub.execute_input": "2022-12-14T05:05:17.519680Z",
     "iopub.status.busy": "2022-12-14T05:05:17.518107Z",
     "iopub.status.idle": "2022-12-14T05:06:45.946053Z",
     "shell.execute_reply": "2022-12-14T05:06:45.945266Z"
    },
    "papermill": {
     "duration": 88.452987,
     "end_time": "2022-12-14T05:06:45.946233",
     "exception": false,
     "start_time": "2022-12-14T05:05:17.493246",
     "status": "completed"
    },
    "tags": []
   },
   "outputs": [
    {
     "name": "stderr",
     "output_type": "stream",
     "text": [
      "/opt/conda/lib/python3.7/site-packages/xgboost/sklearn.py:888: UserWarning: The use of label encoder in XGBClassifier is deprecated and will be removed in a future release. To remove this warning, do the following: 1) Pass option use_label_encoder=False when constructing XGBClassifier object; and 2) Encode your labels (y) as integers starting with 0, i.e. 0, 1, 2, ..., [num_class - 1].\n",
      "  warnings.warn(label_encoder_deprecation_msg, UserWarning)\n"
     ]
    },
    {
     "name": "stdout",
     "output_type": "stream",
     "text": [
      "[05:05:24] WARNING: ../src/learner.cc:1061: Starting in XGBoost 1.3.0, the default evaluation metric used with the objective 'multi:softprob' was changed from 'merror' to 'mlogloss'. Explicitly set eval_metric if you'd like to restore the old behavior.\n"
     ]
    }
   ],
   "source": [
    "model1.fit(x_train,y_train)\n",
    "model2.fit(x_train,y_train)\n",
    "model3.fit(x_train,y_train)\n",
    "model4.fit(x_train,y_train)\n",
    "\n",
    "pred1=model1.predict(x_valid)\n",
    "pred2=model2.predict(x_valid)\n",
    "pred3=model3.predict(x_valid)\n",
    "pred4=model4.predict(x_valid)"
   ]
  },
  {
   "cell_type": "code",
   "execution_count": 19,
   "metadata": {
    "execution": {
     "iopub.execute_input": "2022-12-14T05:06:45.990531Z",
     "iopub.status.busy": "2022-12-14T05:06:45.989795Z",
     "iopub.status.idle": "2022-12-14T05:10:39.110484Z",
     "shell.execute_reply": "2022-12-14T05:10:39.111074Z"
    },
    "papermill": {
     "duration": 233.146694,
     "end_time": "2022-12-14T05:10:39.111286",
     "exception": false,
     "start_time": "2022-12-14T05:06:45.964592",
     "status": "completed"
    },
    "tags": []
   },
   "outputs": [
    {
     "name": "stdout",
     "output_type": "stream",
     "text": [
      "Your submission was successfully saved!\n"
     ]
    }
   ],
   "source": [
    "predictions = model4.predict(test)\n",
    "\n",
    "submission = pd.DataFrame({\n",
    "        \"ID\": test_data.ID,\n",
    "        \"item_cnt_month\": predictions\n",
    "    })\n",
    "submission.reset_index(drop=True, inplace=True)\n",
    "\n",
    "\n",
    "submission.to_csv('submission.csv', index=False)\n",
    "print(\"Your submission was successfully saved!\")"
   ]
  },
  {
   "cell_type": "code",
   "execution_count": 20,
   "metadata": {
    "execution": {
     "iopub.execute_input": "2022-12-14T05:10:39.153080Z",
     "iopub.status.busy": "2022-12-14T05:10:39.152098Z",
     "iopub.status.idle": "2022-12-14T05:10:39.197160Z",
     "shell.execute_reply": "2022-12-14T05:10:39.196631Z"
    },
    "papermill": {
     "duration": 0.06823,
     "end_time": "2022-12-14T05:10:39.197317",
     "exception": false,
     "start_time": "2022-12-14T05:10:39.129087",
     "status": "completed"
    },
    "tags": []
   },
   "outputs": [
    {
     "data": {
      "text/html": [
       "<div>\n",
       "<style scoped>\n",
       "    .dataframe tbody tr th:only-of-type {\n",
       "        vertical-align: middle;\n",
       "    }\n",
       "\n",
       "    .dataframe tbody tr th {\n",
       "        vertical-align: top;\n",
       "    }\n",
       "\n",
       "    .dataframe thead th {\n",
       "        text-align: right;\n",
       "    }\n",
       "</style>\n",
       "<table border=\"1\" class=\"dataframe\">\n",
       "  <thead>\n",
       "    <tr style=\"text-align: right;\">\n",
       "      <th></th>\n",
       "      <th>ID</th>\n",
       "      <th>item_cnt_month</th>\n",
       "    </tr>\n",
       "  </thead>\n",
       "  <tbody>\n",
       "    <tr>\n",
       "      <th>0</th>\n",
       "      <td>0</td>\n",
       "      <td>1.0</td>\n",
       "    </tr>\n",
       "    <tr>\n",
       "      <th>1</th>\n",
       "      <td>1</td>\n",
       "      <td>1.0</td>\n",
       "    </tr>\n",
       "    <tr>\n",
       "      <th>2</th>\n",
       "      <td>2</td>\n",
       "      <td>1.0</td>\n",
       "    </tr>\n",
       "    <tr>\n",
       "      <th>3</th>\n",
       "      <td>3</td>\n",
       "      <td>1.0</td>\n",
       "    </tr>\n",
       "    <tr>\n",
       "      <th>4</th>\n",
       "      <td>4</td>\n",
       "      <td>1.0</td>\n",
       "    </tr>\n",
       "  </tbody>\n",
       "</table>\n",
       "</div>"
      ],
      "text/plain": [
       "   ID  item_cnt_month\n",
       "0   0             1.0\n",
       "1   1             1.0\n",
       "2   2             1.0\n",
       "3   3             1.0\n",
       "4   4             1.0"
      ]
     },
     "execution_count": 20,
     "metadata": {},
     "output_type": "execute_result"
    }
   ],
   "source": [
    "submission = pd.read_csv('submission.csv')\n",
    "submission.head()\n"
   ]
  }
 ],
 "metadata": {
  "kernelspec": {
   "display_name": "Python 3",
   "language": "python",
   "name": "python3"
  },
  "language_info": {
   "codemirror_mode": {
    "name": "ipython",
    "version": 3
   },
   "file_extension": ".py",
   "mimetype": "text/x-python",
   "name": "python",
   "nbconvert_exporter": "python",
   "pygments_lexer": "ipython3",
   "version": "3.7.9"
  },
  "papermill": {
   "default_parameters": {},
   "duration": 333.40974,
   "end_time": "2022-12-14T05:10:39.926408",
   "environment_variables": {},
   "exception": null,
   "input_path": "__notebook__.ipynb",
   "output_path": "__notebook__.ipynb",
   "parameters": {},
   "start_time": "2022-12-14T05:05:06.516668",
   "version": "2.2.2"
  }
 },
 "nbformat": 4,
 "nbformat_minor": 4
}
