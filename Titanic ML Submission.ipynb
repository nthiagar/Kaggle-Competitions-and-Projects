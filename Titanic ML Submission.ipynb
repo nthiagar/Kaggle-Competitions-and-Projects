{
 "cells": [
  {
   "cell_type": "code",
   "execution_count": 1,
   "metadata": {
    "_cell_guid": "b1076dfc-b9ad-4769-8c92-a6c4dae69d19",
    "_uuid": "8f2839f25d086af736a60e9eeb907d3b93b6e0e5",
    "execution": {
     "iopub.execute_input": "2024-05-16T05:55:33.666243Z",
     "iopub.status.busy": "2024-05-16T05:55:33.665209Z",
     "iopub.status.idle": "2024-05-16T05:55:34.247930Z",
     "shell.execute_reply": "2024-05-16T05:55:34.246516Z",
     "shell.execute_reply.started": "2024-05-16T05:55:08.199481Z"
    },
    "papermill": {
     "duration": 0.60328,
     "end_time": "2024-05-16T05:55:34.248094",
     "exception": false,
     "start_time": "2024-05-16T05:55:33.644814",
     "status": "completed"
    },
    "tags": []
   },
   "outputs": [
    {
     "name": "stdout",
     "output_type": "stream",
     "text": [
      "/kaggle/input/titanic/train.csv\n",
      "/kaggle/input/titanic/test.csv\n",
      "/kaggle/input/titanic/gender_submission.csv\n"
     ]
    }
   ],
   "source": [
    "# This Python 3 environment comes with many helpful analytics libraries installed\n",
    "# It is defined by the kaggle/python Docker image: https://github.com/kaggle/docker-python\n",
    "# For example, here's several helpful packages to load\n",
    "\n",
    "import numpy as np # linear algebra\n",
    "import pandas as pd # data processing, CSV file I/O (e.g. pd.read_csv)\n",
    "import sklearn\n",
    "\n",
    "# Input data files are available in the read-only \"../input/\" directory\n",
    "# For example, running this (by clicking run or pressing Shift+Enter) will list all files under the input directory\n",
    "\n",
    "import os\n",
    "for dirname, _, filenames in os.walk('/kaggle/input'):\n",
    "    for filename in filenames:\n",
    "        print(os.path.join(dirname, filename))\n",
    "\n",
    "# You can write up to 5GB to the current directory (/kaggle/working/) that gets preserved as output when you create a version using \"Save & Run All\" \n",
    "# You can also write temporary files to /kaggle/temp/, but they won't be saved outside of the current session"
   ]
  },
  {
   "cell_type": "code",
   "execution_count": 2,
   "metadata": {
    "_cell_guid": "79c7e3d0-c299-4dcb-8224-4455121ee9b0",
    "_uuid": "d629ff2d2480ee46fbb7e2d37f6b5fab8052498a",
    "execution": {
     "iopub.execute_input": "2024-05-16T05:55:34.277301Z",
     "iopub.status.busy": "2024-05-16T05:55:34.276372Z",
     "iopub.status.idle": "2024-05-16T05:55:34.307623Z",
     "shell.execute_reply": "2024-05-16T05:55:34.308217Z",
     "shell.execute_reply.started": "2024-05-16T05:55:08.210112Z"
    },
    "papermill": {
     "duration": 0.047597,
     "end_time": "2024-05-16T05:55:34.308382",
     "exception": false,
     "start_time": "2024-05-16T05:55:34.260785",
     "status": "completed"
    },
    "tags": []
   },
   "outputs": [],
   "source": [
    "train= pd.read_csv(\"/kaggle/input/titanic/train.csv\")\n",
    "test= pd.read_csv(\"/kaggle/input/titanic/test.csv\")\n",
    "x=test.PassengerId\n",
    "y=train.Survived"
   ]
  },
  {
   "cell_type": "code",
   "execution_count": 3,
   "metadata": {
    "execution": {
     "iopub.execute_input": "2024-05-16T05:55:34.336233Z",
     "iopub.status.busy": "2024-05-16T05:55:34.335482Z",
     "iopub.status.idle": "2024-05-16T05:55:35.546755Z",
     "shell.execute_reply": "2024-05-16T05:55:35.547383Z",
     "shell.execute_reply.started": "2024-05-16T05:55:08.231625Z"
    },
    "papermill": {
     "duration": 1.227047,
     "end_time": "2024-05-16T05:55:35.547549",
     "exception": false,
     "start_time": "2024-05-16T05:55:34.320502",
     "status": "completed"
    },
    "tags": []
   },
   "outputs": [],
   "source": [
    "from sklearn.neighbors import KNeighborsClassifier\n",
    "from sklearn.ensemble import RandomForestClassifier\n",
    "from sklearn.ensemble import GradientBoostingClassifier\n",
    "from sklearn.model_selection import train_test_split\n",
    "from sklearn import linear_model\n",
    "from sklearn import neighbors\n",
    "from sklearn.preprocessing import OneHotEncoder\n",
    "from xgboost import XGBClassifier"
   ]
  },
  {
   "cell_type": "code",
   "execution_count": 4,
   "metadata": {
    "execution": {
     "iopub.execute_input": "2024-05-16T05:55:35.575796Z",
     "iopub.status.busy": "2024-05-16T05:55:35.574985Z",
     "iopub.status.idle": "2024-05-16T05:55:35.611758Z",
     "shell.execute_reply": "2024-05-16T05:55:35.611020Z",
     "shell.execute_reply.started": "2024-05-16T05:55:08.240035Z"
    },
    "papermill": {
     "duration": 0.052014,
     "end_time": "2024-05-16T05:55:35.611899",
     "exception": false,
     "start_time": "2024-05-16T05:55:35.559885",
     "status": "completed"
    },
    "tags": []
   },
   "outputs": [
    {
     "name": "stdout",
     "output_type": "stream",
     "text": [
      "<class 'pandas.core.frame.DataFrame'>\n",
      "RangeIndex: 891 entries, 0 to 890\n",
      "Data columns (total 8 columns):\n",
      " #   Column    Non-Null Count  Dtype  \n",
      "---  ------    --------------  -----  \n",
      " 0   Pclass    891 non-null    int64  \n",
      " 1   Sex       891 non-null    object \n",
      " 2   Age       891 non-null    float64\n",
      " 3   SibSp     891 non-null    int64  \n",
      " 4   Parch     891 non-null    int64  \n",
      " 5   Ticket    891 non-null    object \n",
      " 6   Fare      891 non-null    float64\n",
      " 7   Embarked  891 non-null    object \n",
      "dtypes: float64(2), int64(3), object(3)\n",
      "memory usage: 55.8+ KB\n",
      "<class 'pandas.core.frame.DataFrame'>\n",
      "RangeIndex: 418 entries, 0 to 417\n",
      "Data columns (total 8 columns):\n",
      " #   Column    Non-Null Count  Dtype  \n",
      "---  ------    --------------  -----  \n",
      " 0   Pclass    418 non-null    int64  \n",
      " 1   Sex       418 non-null    object \n",
      " 2   Age       418 non-null    float64\n",
      " 3   SibSp     418 non-null    int64  \n",
      " 4   Parch     418 non-null    int64  \n",
      " 5   Ticket    418 non-null    object \n",
      " 6   Fare      418 non-null    float64\n",
      " 7   Embarked  418 non-null    object \n",
      "dtypes: float64(2), int64(3), object(3)\n",
      "memory usage: 26.2+ KB\n"
     ]
    }
   ],
   "source": [
    "encoder = OneHotEncoder(sparse=False)\n",
    "train=train.drop(columns=['Cabin','PassengerId','Survived', 'Name'], axis=1)\n",
    "test=test.drop(columns=['Cabin','PassengerId', 'Name'], axis=1)\n",
    "train['Age'].fillna((train['Age'].mean()), inplace=True) \n",
    "test['Age'].fillna((test['Age'].mean()), inplace=True) \n",
    "test['Fare'].fillna((test['Fare'].mean()), inplace=True) \n",
    "train['Embarked'].fillna('S', inplace=True)\n",
    "train.info()\n",
    "test.info()"
   ]
  },
  {
   "cell_type": "code",
   "execution_count": 5,
   "metadata": {
    "execution": {
     "iopub.execute_input": "2024-05-16T05:55:35.653655Z",
     "iopub.status.busy": "2024-05-16T05:55:35.652891Z",
     "iopub.status.idle": "2024-05-16T05:55:35.683656Z",
     "shell.execute_reply": "2024-05-16T05:55:35.682839Z",
     "shell.execute_reply.started": "2024-05-16T05:55:08.267022Z"
    },
    "papermill": {
     "duration": 0.058651,
     "end_time": "2024-05-16T05:55:35.683819",
     "exception": false,
     "start_time": "2024-05-16T05:55:35.625168",
     "status": "completed"
    },
    "tags": []
   },
   "outputs": [],
   "source": [
    "s = (train.dtypes == 'object')\n",
    "object_cols = list(s[s].index)\n",
    "\n",
    "from sklearn.preprocessing import OneHotEncoder\n",
    "\n",
    "OH_encoder = OneHotEncoder(handle_unknown='ignore', sparse=False)\n",
    "OH_cols_train = pd.DataFrame(OH_encoder.fit_transform(train[object_cols]))\n",
    "OH_cols_test = pd.DataFrame(OH_encoder.transform(test[object_cols]))\n",
    "\n",
    "OH_cols_train.index = train.index\n",
    "OH_cols_test.index = test.index\n",
    "\n",
    "num_X_train = train.drop(object_cols, axis=1)\n",
    "num_X_test = test.drop(object_cols, axis=1)\n",
    "\n",
    "OH_X_train = pd.concat([num_X_train, OH_cols_train], axis=1)\n",
    "OH_X_test= pd.concat([num_X_test, OH_cols_test], axis=1)"
   ]
  },
  {
   "cell_type": "code",
   "execution_count": 6,
   "metadata": {
    "execution": {
     "iopub.execute_input": "2024-05-16T05:55:35.715965Z",
     "iopub.status.busy": "2024-05-16T05:55:35.715215Z",
     "iopub.status.idle": "2024-05-16T05:55:35.718078Z",
     "shell.execute_reply": "2024-05-16T05:55:35.717472Z",
     "shell.execute_reply.started": "2024-05-16T05:55:08.297561Z"
    },
    "papermill": {
     "duration": 0.02133,
     "end_time": "2024-05-16T05:55:35.718208",
     "exception": false,
     "start_time": "2024-05-16T05:55:35.696878",
     "status": "completed"
    },
    "tags": []
   },
   "outputs": [],
   "source": [
    "sklearn.neighbors.KNeighborsClassifier\n",
    "sklearn.linear_model.LinearRegression\n",
    "sklearn.ensemble.RandomForestClassifier\n",
    "sklearn.ensemble.GradientBoostingClassifier\n",
    "xgb_model = XGBClassifier()"
   ]
  },
  {
   "cell_type": "code",
   "execution_count": 7,
   "metadata": {
    "execution": {
     "iopub.execute_input": "2024-05-16T05:55:35.750571Z",
     "iopub.status.busy": "2024-05-16T05:55:35.749722Z",
     "iopub.status.idle": "2024-05-16T05:55:35.766820Z",
     "shell.execute_reply": "2024-05-16T05:55:35.767390Z",
     "shell.execute_reply.started": "2024-05-16T05:55:08.303974Z"
    },
    "papermill": {
     "duration": 0.03673,
     "end_time": "2024-05-16T05:55:35.767554",
     "exception": false,
     "start_time": "2024-05-16T05:55:35.730824",
     "status": "completed"
    },
    "tags": []
   },
   "outputs": [],
   "source": [
    "training, valid, ytraining, yvalid = train_test_split(OH_X_train,y,test_size=0.5)"
   ]
  },
  {
   "cell_type": "code",
   "execution_count": 8,
   "metadata": {
    "execution": {
     "iopub.execute_input": "2024-05-16T05:55:35.796329Z",
     "iopub.status.busy": "2024-05-16T05:55:35.795616Z",
     "iopub.status.idle": "2024-05-16T05:55:35.802158Z",
     "shell.execute_reply": "2024-05-16T05:55:35.801441Z",
     "shell.execute_reply.started": "2024-05-16T05:55:08.326362Z"
    },
    "papermill": {
     "duration": 0.022137,
     "end_time": "2024-05-16T05:55:35.802289",
     "exception": false,
     "start_time": "2024-05-16T05:55:35.780152",
     "status": "completed"
    },
    "tags": []
   },
   "outputs": [],
   "source": [
    "model1=RandomForestClassifier()\n",
    "model2=XGBClassifier()\n",
    "model3=neighbors.KNeighborsClassifier()\n",
    "model4=GradientBoostingClassifier()"
   ]
  },
  {
   "cell_type": "code",
   "execution_count": 9,
   "metadata": {
    "execution": {
     "iopub.execute_input": "2024-05-16T05:55:35.842163Z",
     "iopub.status.busy": "2024-05-16T05:55:35.841360Z",
     "iopub.status.idle": "2024-05-16T05:55:37.254802Z",
     "shell.execute_reply": "2024-05-16T05:55:37.253971Z",
     "shell.execute_reply.started": "2024-05-16T05:55:08.337628Z"
    },
    "papermill": {
     "duration": 1.440119,
     "end_time": "2024-05-16T05:55:37.254939",
     "exception": false,
     "start_time": "2024-05-16T05:55:35.814820",
     "status": "completed"
    },
    "tags": []
   },
   "outputs": [],
   "source": [
    "pred1=model1.fit(training,ytraining)\n",
    "pred2=model2.fit(training,ytraining)\n",
    "pred3=model3.fit(training,ytraining)\n",
    "pred4=model4.fit(training,ytraining)"
   ]
  },
  {
   "cell_type": "code",
   "execution_count": 10,
   "metadata": {
    "execution": {
     "iopub.execute_input": "2024-05-16T05:55:37.284211Z",
     "iopub.status.busy": "2024-05-16T05:55:37.283438Z",
     "iopub.status.idle": "2024-05-16T05:55:37.500969Z",
     "shell.execute_reply": "2024-05-16T05:55:37.501769Z",
     "shell.execute_reply.started": "2024-05-16T05:55:09.699974Z"
    },
    "papermill": {
     "duration": 0.234362,
     "end_time": "2024-05-16T05:55:37.501991",
     "exception": false,
     "start_time": "2024-05-16T05:55:37.267629",
     "status": "completed"
    },
    "tags": []
   },
   "outputs": [],
   "source": [
    "pred1=model1.predict(valid)\n",
    "pred2=model2.predict(valid)\n",
    "pred3=model3.predict(valid)\n",
    "pred4=model4.predict(valid)"
   ]
  },
  {
   "cell_type": "code",
   "execution_count": 11,
   "metadata": {
    "execution": {
     "iopub.execute_input": "2024-05-16T05:55:37.542436Z",
     "iopub.status.busy": "2024-05-16T05:55:37.541641Z",
     "iopub.status.idle": "2024-05-16T05:55:37.750157Z",
     "shell.execute_reply": "2024-05-16T05:55:37.750923Z",
     "shell.execute_reply.started": "2024-05-16T05:55:09.918223Z"
    },
    "papermill": {
     "duration": 0.232084,
     "end_time": "2024-05-16T05:55:37.751138",
     "exception": false,
     "start_time": "2024-05-16T05:55:37.519054",
     "status": "completed"
    },
    "tags": []
   },
   "outputs": [],
   "source": [
    "test_pred1=model1.predict(OH_X_test)\n",
    "test_pred2=model2.predict(OH_X_test)\n",
    "test_pred3=model3.predict(OH_X_test)\n",
    "test_pred4=model4.predict(OH_X_test)"
   ]
  },
  {
   "cell_type": "code",
   "execution_count": 12,
   "metadata": {
    "execution": {
     "iopub.execute_input": "2024-05-16T05:55:37.793211Z",
     "iopub.status.busy": "2024-05-16T05:55:37.792313Z",
     "iopub.status.idle": "2024-05-16T05:55:37.795981Z",
     "shell.execute_reply": "2024-05-16T05:55:37.796527Z",
     "shell.execute_reply.started": "2024-05-16T05:55:10.137462Z"
    },
    "papermill": {
     "duration": 0.028311,
     "end_time": "2024-05-16T05:55:37.796685",
     "exception": false,
     "start_time": "2024-05-16T05:55:37.768374",
     "status": "completed"
    },
    "tags": []
   },
   "outputs": [],
   "source": [
    "stacked=np.column_stack((pred1,pred2,pred3,pred4))\n",
    "stacked_test_predictions=np.column_stack((test_pred1,test_pred2,test_pred3,test_pred4))"
   ]
  },
  {
   "cell_type": "code",
   "execution_count": 13,
   "metadata": {
    "execution": {
     "iopub.execute_input": "2024-05-16T05:55:37.828853Z",
     "iopub.status.busy": "2024-05-16T05:55:37.827919Z",
     "iopub.status.idle": "2024-05-16T05:55:37.864119Z",
     "shell.execute_reply": "2024-05-16T05:55:37.865229Z",
     "shell.execute_reply.started": "2024-05-16T05:55:10.144907Z"
    },
    "papermill": {
     "duration": 0.056344,
     "end_time": "2024-05-16T05:55:37.865434",
     "exception": false,
     "start_time": "2024-05-16T05:55:37.809090",
     "status": "completed"
    },
    "tags": []
   },
   "outputs": [
    {
     "data": {
      "text/plain": [
       "XGBClassifier(base_score=0.5, booster='gbtree', colsample_bylevel=1,\n",
       "              colsample_bynode=1, colsample_bytree=1, gamma=0, gpu_id=-1,\n",
       "              importance_type='gain', interaction_constraints='',\n",
       "              learning_rate=0.300000012, max_delta_step=0, max_depth=6,\n",
       "              min_child_weight=1, missing=nan, monotone_constraints='()',\n",
       "              n_estimators=100, n_jobs=0, num_parallel_tree=1, random_state=0,\n",
       "              reg_alpha=0, reg_lambda=1, scale_pos_weight=1, subsample=1,\n",
       "              tree_method='exact', validate_parameters=1, verbosity=None)"
      ]
     },
     "execution_count": 13,
     "metadata": {},
     "output_type": "execute_result"
    }
   ],
   "source": [
    "meta_model=XGBClassifier()\n",
    "meta_model.fit(stacked,yvalid)\n"
   ]
  },
  {
   "cell_type": "code",
   "execution_count": 14,
   "metadata": {
    "execution": {
     "iopub.execute_input": "2024-05-16T05:55:37.912349Z",
     "iopub.status.busy": "2024-05-16T05:55:37.911488Z",
     "iopub.status.idle": "2024-05-16T05:55:37.929802Z",
     "shell.execute_reply": "2024-05-16T05:55:37.931077Z",
     "shell.execute_reply.started": "2024-05-16T05:55:10.187656Z"
    },
    "papermill": {
     "duration": 0.047643,
     "end_time": "2024-05-16T05:55:37.931292",
     "exception": false,
     "start_time": "2024-05-16T05:55:37.883649",
     "status": "completed"
    },
    "tags": []
   },
   "outputs": [],
   "source": [
    "final=meta_model.predict(stacked_test_predictions)\n",
    "output = pd.DataFrame({'PassengerId': x, 'Survived': final})\n",
    "output.to_csv('submission.csv', index=False)"
   ]
  },
  {
   "cell_type": "code",
   "execution_count": 15,
   "metadata": {
    "execution": {
     "iopub.execute_input": "2024-05-16T05:55:37.979732Z",
     "iopub.status.busy": "2024-05-16T05:55:37.978884Z",
     "iopub.status.idle": "2024-05-16T05:55:37.991189Z",
     "shell.execute_reply": "2024-05-16T05:55:37.992760Z",
     "shell.execute_reply.started": "2024-05-16T05:55:10.200624Z"
    },
    "papermill": {
     "duration": 0.043595,
     "end_time": "2024-05-16T05:55:37.993098",
     "exception": false,
     "start_time": "2024-05-16T05:55:37.949503",
     "status": "completed"
    },
    "tags": []
   },
   "outputs": [
    {
     "data": {
      "text/html": [
       "<div>\n",
       "<style scoped>\n",
       "    .dataframe tbody tr th:only-of-type {\n",
       "        vertical-align: middle;\n",
       "    }\n",
       "\n",
       "    .dataframe tbody tr th {\n",
       "        vertical-align: top;\n",
       "    }\n",
       "\n",
       "    .dataframe thead th {\n",
       "        text-align: right;\n",
       "    }\n",
       "</style>\n",
       "<table border=\"1\" class=\"dataframe\">\n",
       "  <thead>\n",
       "    <tr style=\"text-align: right;\">\n",
       "      <th></th>\n",
       "      <th>PassengerId</th>\n",
       "      <th>Survived</th>\n",
       "    </tr>\n",
       "  </thead>\n",
       "  <tbody>\n",
       "    <tr>\n",
       "      <th>0</th>\n",
       "      <td>892</td>\n",
       "      <td>0</td>\n",
       "    </tr>\n",
       "    <tr>\n",
       "      <th>1</th>\n",
       "      <td>893</td>\n",
       "      <td>0</td>\n",
       "    </tr>\n",
       "    <tr>\n",
       "      <th>2</th>\n",
       "      <td>894</td>\n",
       "      <td>0</td>\n",
       "    </tr>\n",
       "    <tr>\n",
       "      <th>3</th>\n",
       "      <td>895</td>\n",
       "      <td>0</td>\n",
       "    </tr>\n",
       "    <tr>\n",
       "      <th>4</th>\n",
       "      <td>896</td>\n",
       "      <td>0</td>\n",
       "    </tr>\n",
       "  </tbody>\n",
       "</table>\n",
       "</div>"
      ],
      "text/plain": [
       "   PassengerId  Survived\n",
       "0          892         0\n",
       "1          893         0\n",
       "2          894         0\n",
       "3          895         0\n",
       "4          896         0"
      ]
     },
     "execution_count": 15,
     "metadata": {},
     "output_type": "execute_result"
    }
   ],
   "source": [
    "submission = pd.read_csv('submission.csv')\n",
    "submission.head()"
   ]
  }
 ],
 "metadata": {
  "kaggle": {
   "accelerator": "none",
   "dataSources": [
    {
     "databundleVersionId": 26502,
     "sourceId": 3136,
     "sourceType": "competition"
    }
   ],
   "dockerImageVersionId": 29974,
   "isGpuEnabled": false,
   "isInternetEnabled": false,
   "language": "python",
   "sourceType": "notebook"
  },
  "kernelspec": {
   "display_name": "Python 3",
   "language": "python",
   "name": "python3"
  },
  "language_info": {
   "codemirror_mode": {
    "name": "ipython",
    "version": 3
   },
   "file_extension": ".py",
   "mimetype": "text/x-python",
   "name": "python",
   "nbconvert_exporter": "python",
   "pygments_lexer": "ipython3",
   "version": "3.7.6"
  },
  "papermill": {
   "duration": 15.583263,
   "end_time": "2024-05-16T05:55:38.126501",
   "environment_variables": {},
   "exception": null,
   "input_path": "__notebook__.ipynb",
   "output_path": "__notebook__.ipynb",
   "parameters": {},
   "start_time": "2024-05-16T05:55:22.543238",
   "version": "2.1.0"
  }
 },
 "nbformat": 4,
 "nbformat_minor": 4
}
